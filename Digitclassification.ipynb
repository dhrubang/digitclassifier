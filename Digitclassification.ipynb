{
 "cells": [
  {
   "cell_type": "markdown",
   "id": "747bdb08",
   "metadata": {},
   "source": [
    "<h1>Handwritten Code Classification using NeuralNetwork"
   ]
  },
  {
   "cell_type": "code",
   "execution_count": 22,
   "id": "1e134741",
   "metadata": {},
   "outputs": [],
   "source": [
    "import tensorflow as tf\n",
    "from tensorflow import keras\n",
    "import matplotlib.pyplot as plt\n",
    "import numpy as np"
   ]
  },
  {
   "cell_type": "code",
   "execution_count": 23,
   "id": "da739840",
   "metadata": {},
   "outputs": [],
   "source": [
    "(X_train, y_train) , (X_test, y_test) = keras.datasets.mnist.load_data()"
   ]
  },
  {
   "cell_type": "markdown",
   "id": "2c4c5c36",
   "metadata": {},
   "source": [
    "<h3>Divide by 255 to get values between 0 to 1 as scaling improves accuracy.(0-255) is the range of values for colours<h3>"
   ]
  },
  {
   "cell_type": "code",
   "execution_count": 24,
   "id": "ea84ae85",
   "metadata": {},
   "outputs": [],
   "source": [
    "X_train = X_train / 255\n",
    "X_test = X_test / 255\n"
   ]
  },
  {
   "cell_type": "markdown",
   "id": "5fbbfb91",
   "metadata": {},
   "source": [
    "<h3>Convert from 3d to 2d<h3>"
   ]
  },
  {
   "cell_type": "code",
   "execution_count": 25,
   "id": "df32f742",
   "metadata": {},
   "outputs": [],
   "source": [
    "X_train_flattened = X_train.reshape(len(X_train), 28*28)\n",
    "X_test_flattened = X_test.reshape(len(X_test), 28*28)"
   ]
  },
  {
   "cell_type": "markdown",
   "id": "cab23e73",
   "metadata": {},
   "source": [
    "<h3>From here we try to train our model and improve its accuracy with each try<h3>"
   ]
  },
  {
   "cell_type": "code",
   "execution_count": 26,
   "id": "6b66bc19",
   "metadata": {},
   "outputs": [
    {
     "name": "stdout",
     "output_type": "stream",
     "text": [
      "Epoch 1/5\n",
      "1875/1875 [==============================] - 4s 909us/step - loss: 0.4656 - accuracy: 0.8797\n",
      "Epoch 2/5\n",
      "1875/1875 [==============================] - 2s 840us/step - loss: 0.3034 - accuracy: 0.9152\n",
      "Epoch 3/5\n",
      "1875/1875 [==============================] - 2s 825us/step - loss: 0.2833 - accuracy: 0.9206\n",
      "Epoch 4/5\n",
      "1875/1875 [==============================] - 2s 811us/step - loss: 0.2733 - accuracy: 0.9228\n",
      "Epoch 5/5\n",
      "1875/1875 [==============================] - 2s 801us/step - loss: 0.2663 - accuracy: 0.9264\n"
     ]
    },
    {
     "data": {
      "text/plain": [
       "<keras.callbacks.History at 0x18fc855c820>"
      ]
     },
     "execution_count": 26,
     "metadata": {},
     "output_type": "execute_result"
    }
   ],
   "source": [
    "model = keras.Sequential([\n",
    "    keras.layers.Dense(10, input_shape=(784,), activation='sigmoid')\n",
    "])\n",
    "\n",
    "model.compile(optimizer='adam',\n",
    "              loss='sparse_categorical_crossentropy',\n",
    "              metrics=['accuracy'])\n",
    "\n",
    "model.fit(X_train_flattened, y_train, epochs=5)"
   ]
  },
  {
   "cell_type": "code",
   "execution_count": 27,
   "id": "99d043b8",
   "metadata": {},
   "outputs": [
    {
     "name": "stdout",
     "output_type": "stream",
     "text": [
      "313/313 [==============================] - 1s 1ms/step - loss: 0.2678 - accuracy: 0.9253\n"
     ]
    },
    {
     "data": {
      "text/plain": [
       "[0.26778751611709595, 0.9253000020980835]"
      ]
     },
     "execution_count": 27,
     "metadata": {},
     "output_type": "execute_result"
    }
   ],
   "source": [
    "model.evaluate(X_test_flattened, y_test)"
   ]
  },
  {
   "cell_type": "code",
   "execution_count": 28,
   "id": "6daeb10d",
   "metadata": {},
   "outputs": [
    {
     "name": "stdout",
     "output_type": "stream",
     "text": [
      "313/313 [==============================] - 0s 762us/step\n"
     ]
    },
    {
     "data": {
      "text/plain": [
       "array([5.2719157e-02, 4.0407019e-07, 5.3400941e-02, 9.6440887e-01,\n",
       "       2.2287883e-03, 1.4375277e-01, 2.1223987e-06, 9.9978852e-01,\n",
       "       9.0622522e-02, 6.5353006e-01], dtype=float32)"
      ]
     },
     "execution_count": 28,
     "metadata": {},
     "output_type": "execute_result"
    }
   ],
   "source": [
    "y_predicted = model.predict(X_test_flattened)\n",
    "y_predicted[0]"
   ]
  },
  {
   "cell_type": "code",
   "execution_count": 29,
   "id": "cd588d8b",
   "metadata": {},
   "outputs": [
    {
     "data": {
      "text/plain": [
       "<matplotlib.image.AxesImage at 0x18fc5678850>"
      ]
     },
     "execution_count": 29,
     "metadata": {},
     "output_type": "execute_result"
    },
    {
     "data": {
      "image/png": "[encoded data removed]",
      "text/plain": [
       "<Figure size 288x288 with 1 Axes>"
      ]
     },
     "metadata": {
      "needs_background": "light"
     },
     "output_type": "display_data"
    }
   ],
   "source": [
    "plt.matshow(X_test[0])"
   ]
  },
  {
   "cell_type": "code",
   "execution_count": 30,
   "id": "1adc9417",
   "metadata": {},
   "outputs": [
    {
     "data": {
      "text/plain": [
       "7"
      ]
     },
     "execution_count": 30,
     "metadata": {},
     "output_type": "execute_result"
    }
   ],
   "source": [
    "np.argmax(y_predicted[0])"
   ]
  },
  {
   "cell_type": "code",
   "execution_count": 31,
   "id": "16d267f7",
   "metadata": {},
   "outputs": [],
   "source": [
    "y_predicted_labels = [np.argmax(i) for i in y_predicted]"
   ]
  },
  {
   "cell_type": "code",
   "execution_count": 32,
   "id": "6f4e2594",
   "metadata": {},
   "outputs": [
    {
     "data": {
      "text/plain": [
       "[7, 2, 1, 0, 4]"
      ]
     },
     "execution_count": 32,
     "metadata": {},
     "output_type": "execute_result"
    }
   ],
   "source": [
    "y_predicted_labels[:5]"
   ]
  },
  {
   "cell_type": "code",
   "execution_count": 34,
   "id": "bbcf31ce",
   "metadata": {},
   "outputs": [
    {
     "data": {
      "text/plain": [
       "Text(69.0, 0.5, 'Truth')"
      ]
     },
     "execution_count": 34,
     "metadata": {},
     "output_type": "execute_result"
    },
    {
     "data": {
      "image/png": "[encoded data removed]",
      "text/plain": [
       "<Figure size 720x504 with 2 Axes>"
      ]
     },
     "metadata": {
      "needs_background": "light"
     },
     "output_type": "display_data"
    }
   ],
   "source": [
    "import seaborn as sn\n",
    "cm = tf.math.confusion_matrix(labels=y_test,predictions=y_predicted_labels)\n",
    "plt.figure(figsize = (10,7))\n",
    "sn.heatmap(cm, annot=True, fmt='d')\n",
    "plt.xlabel('Predicted')\n",
    "plt.ylabel('Truth')"
   ]
  },
  {
   "cell_type": "code",
   "execution_count": 35,
   "id": "d2d93bb7",
   "metadata": {},
   "outputs": [
    {
     "name": "stdout",
     "output_type": "stream",
     "text": [
      "Epoch 1/5\n",
      "1875/1875 [==============================] - 3s 1ms/step - loss: 0.2723 - accuracy: 0.9220\n",
      "Epoch 2/5\n",
      "1875/1875 [==============================] - 2s 1ms/step - loss: 0.1200 - accuracy: 0.9649\n",
      "Epoch 3/5\n",
      "1875/1875 [==============================] - 2s 1ms/step - loss: 0.0841 - accuracy: 0.9750\n",
      "Epoch 4/5\n",
      "1875/1875 [==============================] - 2s 1ms/step - loss: 0.0635 - accuracy: 0.9806\n",
      "Epoch 5/5\n",
      "1875/1875 [==============================] - 2s 1ms/step - loss: 0.0503 - accuracy: 0.9847\n"
     ]
    },
    {
     "data": {
      "text/plain": [
       "<keras.callbacks.History at 0x18fc89f9580>"
      ]
     },
     "execution_count": 35,
     "metadata": {},
     "output_type": "execute_result"
    }
   ],
   "source": [
    "model = keras.Sequential([\n",
    "    keras.layers.Dense(100, input_shape=(784,), activation='relu'),\n",
    "    keras.layers.Dense(10, activation='sigmoid')\n",
    "])\n",
    "\n",
    "model.compile(optimizer='adam',\n",
    "              loss='sparse_categorical_crossentropy',\n",
    "              metrics=['accuracy'])\n",
    "\n",
    "model.fit(X_train_flattened, y_train, epochs=5)"
   ]
  },
  {
   "cell_type": "code",
   "execution_count": 36,
   "id": "caec2e91",
   "metadata": {},
   "outputs": [
    {
     "name": "stdout",
     "output_type": "stream",
     "text": [
      "313/313 [==============================] - 1s 1ms/step - loss: 0.0874 - accuracy: 0.9730\n"
     ]
    },
    {
     "data": {
      "text/plain": [
       "[0.08744729310274124, 0.9729999899864197]"
      ]
     },
     "execution_count": 36,
     "metadata": {},
     "output_type": "execute_result"
    }
   ],
   "source": [
    "model.evaluate(X_test_flattened,y_test)"
   ]
  },
  {
   "cell_type": "code",
   "execution_count": 37,
   "id": "ef7acc5a",
   "metadata": {
    "scrolled": true
   },
   "outputs": [
    {
     "name": "stdout",
     "output_type": "stream",
     "text": [
      "313/313 [==============================] - 0s 833us/step\n"
     ]
    },
    {
     "data": {
      "text/plain": [
       "Text(69.0, 0.5, 'Truth')"
      ]
     },
     "execution_count": 37,
     "metadata": {},
     "output_type": "execute_result"
    },
    {
     "data": {
      "image/png": "[encoded data removed]",
      "text/plain": [
       "<Figure size 720x504 with 2 Axes>"
      ]
     },
     "metadata": {
      "needs_background": "light"
     },
     "output_type": "display_data"
    }
   ],
   "source": [
    "y_predicted = model.predict(X_test_flattened)\n",
    "y_predicted_labels = [np.argmax(i) for i in y_predicted]\n",
    "cm = tf.math.confusion_matrix(labels=y_test,predictions=y_predicted_labels)\n",
    "\n",
    "plt.figure(figsize = (10,7))\n",
    "sn.heatmap(cm, annot=True, fmt='d')\n",
    "plt.xlabel('Predicted')\n",
    "plt.ylabel('Truth')"
   ]
  },
  {
   "cell_type": "code",
   "execution_count": 38,
   "id": "24a8244a",
   "metadata": {},
   "outputs": [
    {
     "name": "stdout",
     "output_type": "stream",
     "text": [
      "Epoch 1/10\n",
      "1875/1875 [==============================] - 3s 1ms/step - loss: 0.2735 - accuracy: 0.9221\n",
      "Epoch 2/10\n",
      "1875/1875 [==============================] - 2s 1ms/step - loss: 0.1215 - accuracy: 0.9638\n",
      "Epoch 3/10\n",
      "1875/1875 [==============================] - 2s 1ms/step - loss: 0.0835 - accuracy: 0.9755\n",
      "Epoch 4/10\n",
      "1875/1875 [==============================] - 2s 1ms/step - loss: 0.0643 - accuracy: 0.9803\n",
      "Epoch 5/10\n",
      "1875/1875 [==============================] - 2s 1ms/step - loss: 0.0502 - accuracy: 0.9850\n",
      "Epoch 6/10\n",
      "1875/1875 [==============================] - 2s 1ms/step - loss: 0.0412 - accuracy: 0.9875\n",
      "Epoch 7/10\n",
      "1875/1875 [==============================] - 3s 2ms/step - loss: 0.0321 - accuracy: 0.9907\n",
      "Epoch 8/10\n",
      "1875/1875 [==============================] - 3s 2ms/step - loss: 0.0262 - accuracy: 0.9923\n",
      "Epoch 9/10\n",
      "1875/1875 [==============================] - 3s 2ms/step - loss: 0.0230 - accuracy: 0.9931\n",
      "Epoch 10/10\n",
      "1875/1875 [==============================] - 3s 2ms/step - loss: 0.0178 - accuracy: 0.9948\n"
     ]
    },
    {
     "data": {
      "text/plain": [
       "<keras.callbacks.History at 0x18fc9d8de50>"
      ]
     },
     "execution_count": 38,
     "metadata": {},
     "output_type": "execute_result"
    }
   ],
   "source": [
    "model = keras.Sequential([\n",
    "    keras.layers.Flatten(input_shape=(28, 28)),\n",
    "    keras.layers.Dense(100, activation='relu'),\n",
    "    keras.layers.Dense(10, activation='sigmoid')\n",
    "])\n",
    "\n",
    "model.compile(optimizer='adam',\n",
    "              loss='sparse_categorical_crossentropy',\n",
    "              metrics=['accuracy'])\n",
    "\n",
    "model.fit(X_train, y_train, epochs=10)"
   ]
  },
  {
   "cell_type": "code",
   "execution_count": 39,
   "id": "83db13bd",
   "metadata": {},
   "outputs": [
    {
     "name": "stdout",
     "output_type": "stream",
     "text": [
      "313/313 [==============================] - 1s 1ms/step - loss: 0.0897 - accuracy: 0.9752\n"
     ]
    },
    {
     "data": {
      "text/plain": [
       "[0.08965684473514557, 0.9751999974250793]"
      ]
     },
     "execution_count": 39,
     "metadata": {},
     "output_type": "execute_result"
    }
   ],
   "source": [
    "model.evaluate(X_test,y_test)"
   ]
  },
  {
   "cell_type": "code",
   "execution_count": 43,
   "id": "3e8bdaff",
   "metadata": {},
   "outputs": [
    {
     "name": "stdout",
     "output_type": "stream",
     "text": [
      "Epoch 1/10\n",
      "1875/1875 [==============================] - 2s 1ms/step - loss: 0.2841 - accuracy: 0.9203\n",
      "Epoch 2/10\n",
      "1875/1875 [==============================] - 2s 1ms/step - loss: 0.1275 - accuracy: 0.9629\n",
      "Epoch 3/10\n",
      "1875/1875 [==============================] - 2s 1ms/step - loss: 0.0883 - accuracy: 0.9741\n",
      "Epoch 4/10\n",
      "1875/1875 [==============================] - 2s 1ms/step - loss: 0.0669 - accuracy: 0.9800\n",
      "Epoch 5/10\n",
      "1875/1875 [==============================] - 2s 1ms/step - loss: 0.0521 - accuracy: 0.9843\n",
      "Epoch 6/10\n",
      "1875/1875 [==============================] - 2s 1ms/step - loss: 0.0417 - accuracy: 0.9874\n",
      "Epoch 7/10\n",
      "1875/1875 [==============================] - 2s 1ms/step - loss: 0.0345 - accuracy: 0.9892\n",
      "Epoch 8/10\n",
      "1875/1875 [==============================] - 2s 1ms/step - loss: 0.0286 - accuracy: 0.9909\n",
      "Epoch 9/10\n",
      "1875/1875 [==============================] - 2s 1ms/step - loss: 0.0236 - accuracy: 0.9931\n",
      "Epoch 10/10\n",
      "1875/1875 [==============================] - 2s 1ms/step - loss: 0.0194 - accuracy: 0.9939\n"
     ]
    },
    {
     "data": {
      "text/plain": [
       "<keras.callbacks.History at 0x18fc89f5970>"
      ]
     },
     "execution_count": 43,
     "metadata": {},
     "output_type": "execute_result"
    }
   ],
   "source": [
    "model = keras.Sequential([\n",
    "    keras.layers.Flatten(input_shape=(28, 28)),\n",
    "    keras.layers.Dense(100, activation='relu'),\n",
    "    keras.layers.Dense(10, activation='softmax')\n",
    "])\n",
    "\n",
    "model.compile(optimizer='adam',\n",
    "              loss='sparse_categorical_crossentropy',\n",
    "              metrics=['accuracy'])\n",
    "\n",
    "model.fit(X_train, y_train, epochs=10)"
   ]
  },
  {
   "cell_type": "code",
   "execution_count": 44,
   "id": "5f484306",
   "metadata": {},
   "outputs": [
    {
     "name": "stdout",
     "output_type": "stream",
     "text": [
      "313/313 [==============================] - 0s 1ms/step - loss: 0.0768 - accuracy: 0.9788\n"
     ]
    },
    {
     "data": {
      "text/plain": [
       "[0.07678458839654922, 0.9787999987602234]"
      ]
     },
     "execution_count": 44,
     "metadata": {},
     "output_type": "execute_result"
    }
   ],
   "source": [
    "model.evaluate(X_test,y_test)"
   ]
  },
  {
   "cell_type": "code",
   "execution_count": 47,
   "id": "56fb3580",
   "metadata": {},
   "outputs": [
    {
     "name": "stdout",
     "output_type": "stream",
     "text": [
      "Epoch 1/10\n",
      "1875/1875 [==============================] - 2s 1ms/step - loss: 0.2682 - accuracy: 0.9252\n",
      "Epoch 2/10\n",
      "1875/1875 [==============================] - 2s 1ms/step - loss: 0.1220 - accuracy: 0.9646\n",
      "Epoch 3/10\n",
      "1875/1875 [==============================] - 2s 1ms/step - loss: 0.0841 - accuracy: 0.9747\n",
      "Epoch 4/10\n",
      "1875/1875 [==============================] - 2s 1ms/step - loss: 0.0642 - accuracy: 0.9808\n",
      "Epoch 5/10\n",
      "1875/1875 [==============================] - 2s 1ms/step - loss: 0.0526 - accuracy: 0.9838\n",
      "Epoch 6/10\n",
      "1875/1875 [==============================] - 2s 1ms/step - loss: 0.0414 - accuracy: 0.9874\n",
      "Epoch 7/10\n",
      "1875/1875 [==============================] - 2s 1ms/step - loss: 0.0341 - accuracy: 0.9893\n",
      "Epoch 8/10\n",
      "1875/1875 [==============================] - 2s 1ms/step - loss: 0.0271 - accuracy: 0.9914\n",
      "Epoch 9/10\n",
      "1875/1875 [==============================] - 2s 1ms/step - loss: 0.0236 - accuracy: 0.9928\n",
      "Epoch 10/10\n",
      "1875/1875 [==============================] - 2s 1ms/step - loss: 0.0198 - accuracy: 0.9940\n"
     ]
    },
    {
     "data": {
      "text/plain": [
       "<keras.callbacks.History at 0x18fc4ae99d0>"
      ]
     },
     "execution_count": 47,
     "metadata": {},
     "output_type": "execute_result"
    }
   ],
   "source": [
    "model = keras.Sequential([\n",
    "          keras.layers.Flatten(input_shape=(28, 28)),\n",
    "          keras.layers.Dense(100,activation='relu'),\n",
    "          keras.layers.Dense(10,activation='sigmoid')                \n",
    "\n",
    "])\n",
    "\n",
    "model.compile(optimizer='adam',\n",
    "              loss='sparse_categorical_crossentropy',\n",
    "              metrics=['accuracy'])\n",
    "\n",
    "model.fit(X_train,y_train,epochs=10)"
   ]
  },
  {
   "cell_type": "code",
   "execution_count": 48,
   "id": "10df07a2",
   "metadata": {},
   "outputs": [
    {
     "name": "stdout",
     "output_type": "stream",
     "text": [
      "313/313 [==============================] - 0s 843us/step - loss: 0.0787 - accuracy: 0.9761\n"
     ]
    },
    {
     "data": {
      "text/plain": [
       "[0.07874239236116409, 0.9761000275611877]"
      ]
     },
     "execution_count": 48,
     "metadata": {},
     "output_type": "execute_result"
    }
   ],
   "source": [
    "model.evaluate(X_test,y_test)"
   ]
  },
  {
   "cell_type": "code",
   "execution_count": 51,
   "id": "d9bb8f92",
   "metadata": {},
   "outputs": [
    {
     "name": "stdout",
     "output_type": "stream",
     "text": [
      "Epoch 1/100\n",
      "1875/1875 [==============================] - 2s 1ms/step - loss: 0.2686 - accuracy: 0.9231\n",
      "Epoch 2/100\n",
      "1875/1875 [==============================] - 2s 1ms/step - loss: 0.1160 - accuracy: 0.9656\n",
      "Epoch 3/100\n",
      "1875/1875 [==============================] - 2s 1ms/step - loss: 0.0807 - accuracy: 0.9758\n",
      "Epoch 4/100\n",
      "1875/1875 [==============================] - 2s 1ms/step - loss: 0.0619 - accuracy: 0.9813\n",
      "Epoch 5/100\n",
      "1875/1875 [==============================] - 2s 1ms/step - loss: 0.0493 - accuracy: 0.9850\n",
      "Epoch 6/100\n",
      "1875/1875 [==============================] - 2s 1ms/step - loss: 0.0405 - accuracy: 0.9872\n",
      "Epoch 7/100\n",
      "1875/1875 [==============================] - 2s 1ms/step - loss: 0.0325 - accuracy: 0.9902\n",
      "Epoch 8/100\n",
      "1875/1875 [==============================] - 2s 1ms/step - loss: 0.0278 - accuracy: 0.9915\n",
      "Epoch 9/100\n",
      "1875/1875 [==============================] - 2s 1ms/step - loss: 0.0223 - accuracy: 0.9929\n",
      "Epoch 10/100\n",
      "1875/1875 [==============================] - 2s 1ms/step - loss: 0.0190 - accuracy: 0.9944\n",
      "Epoch 11/100\n",
      "1875/1875 [==============================] - 2s 1ms/step - loss: 0.0158 - accuracy: 0.9954\n",
      "Epoch 12/100\n",
      "1875/1875 [==============================] - 2s 1ms/step - loss: 0.0144 - accuracy: 0.9957\n",
      "Epoch 13/100\n",
      "1875/1875 [==============================] - 2s 1ms/step - loss: 0.0117 - accuracy: 0.9963\n",
      "Epoch 14/100\n",
      "1875/1875 [==============================] - 2s 1ms/step - loss: 0.0113 - accuracy: 0.9967\n",
      "Epoch 15/100\n",
      "1875/1875 [==============================] - 2s 1ms/step - loss: 0.0098 - accuracy: 0.9970\n",
      "Epoch 16/100\n",
      "1875/1875 [==============================] - 2s 1ms/step - loss: 0.0081 - accuracy: 0.9975\n",
      "Epoch 17/100\n",
      "1875/1875 [==============================] - 2s 1ms/step - loss: 0.0078 - accuracy: 0.9977\n",
      "Epoch 18/100\n",
      "1875/1875 [==============================] - 2s 1ms/step - loss: 0.0082 - accuracy: 0.9972\n",
      "Epoch 19/100\n",
      "1875/1875 [==============================] - 2s 1ms/step - loss: 0.0047 - accuracy: 0.9986\n",
      "Epoch 20/100\n",
      "1875/1875 [==============================] - 2s 1ms/step - loss: 0.0076 - accuracy: 0.9976\n",
      "Epoch 21/100\n",
      "1875/1875 [==============================] - 2s 1ms/step - loss: 0.0062 - accuracy: 0.9982\n",
      "Epoch 22/100\n",
      "1875/1875 [==============================] - 2s 1ms/step - loss: 0.0073 - accuracy: 0.9975\n",
      "Epoch 23/100\n",
      "1875/1875 [==============================] - 2s 1ms/step - loss: 0.0035 - accuracy: 0.9991\n",
      "Epoch 24/100\n",
      "1875/1875 [==============================] - 2s 1ms/step - loss: 0.0054 - accuracy: 0.9982\n",
      "Epoch 25/100\n",
      "1875/1875 [==============================] - 2s 1ms/step - loss: 0.0046 - accuracy: 0.9988\n",
      "Epoch 26/100\n",
      "1875/1875 [==============================] - 2s 1ms/step - loss: 0.0045 - accuracy: 0.9987\n",
      "Epoch 27/100\n",
      "1875/1875 [==============================] - 2s 1ms/step - loss: 0.0035 - accuracy: 0.9990\n",
      "Epoch 28/100\n",
      "1875/1875 [==============================] - 2s 1ms/step - loss: 0.0043 - accuracy: 0.9986\n",
      "Epoch 29/100\n",
      "1875/1875 [==============================] - 2s 1ms/step - loss: 0.0050 - accuracy: 0.9983\n",
      "Epoch 30/100\n",
      "1875/1875 [==============================] - 3s 2ms/step - loss: 0.0035 - accuracy: 0.9990\n",
      "Epoch 31/100\n",
      "1875/1875 [==============================] - 3s 2ms/step - loss: 0.0041 - accuracy: 0.9986\n",
      "Epoch 32/100\n",
      "1875/1875 [==============================] - 3s 2ms/step - loss: 0.0040 - accuracy: 0.9988\n",
      "Epoch 33/100\n",
      "1875/1875 [==============================] - 3s 1ms/step - loss: 0.0029 - accuracy: 0.9990\n",
      "Epoch 34/100\n",
      "1875/1875 [==============================] - 2s 1ms/step - loss: 0.0047 - accuracy: 0.9984\n",
      "Epoch 35/100\n",
      "1875/1875 [==============================] - 2s 1ms/step - loss: 0.0036 - accuracy: 0.9988\n",
      "Epoch 36/100\n",
      "1875/1875 [==============================] - 2s 1ms/step - loss: 0.0027 - accuracy: 0.9991\n",
      "Epoch 37/100\n",
      "1875/1875 [==============================] - 2s 1ms/step - loss: 0.0035 - accuracy: 0.9989\n",
      "Epoch 38/100\n",
      "1875/1875 [==============================] - 2s 1ms/step - loss: 0.0038 - accuracy: 0.9988\n",
      "Epoch 39/100\n",
      "1875/1875 [==============================] - 2s 1ms/step - loss: 0.0025 - accuracy: 0.9991\n",
      "Epoch 40/100\n",
      "1875/1875 [==============================] - 2s 1ms/step - loss: 0.0042 - accuracy: 0.9986\n",
      "Epoch 41/100\n",
      "1875/1875 [==============================] - 3s 2ms/step - loss: 0.0012 - accuracy: 0.9996\n",
      "Epoch 42/100\n",
      "1875/1875 [==============================] - 3s 2ms/step - loss: 0.0048 - accuracy: 0.9984\n",
      "Epoch 43/100\n",
      "1875/1875 [==============================] - 3s 2ms/step - loss: 8.6489e-04 - accuracy: 0.9998\n",
      "Epoch 44/100\n",
      "1875/1875 [==============================] - 3s 2ms/step - loss: 0.0060 - accuracy: 0.9981\n",
      "Epoch 45/100\n",
      "1875/1875 [==============================] - 3s 2ms/step - loss: 0.0037 - accuracy: 0.9987\n",
      "Epoch 46/100\n",
      "1875/1875 [==============================] - 3s 1ms/step - loss: 0.0024 - accuracy: 0.9993\n",
      "Epoch 47/100\n",
      "1875/1875 [==============================] - 2s 1ms/step - loss: 0.0035 - accuracy: 0.9988\n",
      "Epoch 48/100\n",
      "1875/1875 [==============================] - 2s 1ms/step - loss: 0.0020 - accuracy: 0.9992\n",
      "Epoch 49/100\n",
      "1875/1875 [==============================] - 2s 1ms/step - loss: 0.0037 - accuracy: 0.9989\n",
      "Epoch 50/100\n",
      "1875/1875 [==============================] - 2s 1ms/step - loss: 0.0036 - accuracy: 0.9988\n",
      "Epoch 51/100\n",
      "1875/1875 [==============================] - 2s 1ms/step - loss: 0.0011 - accuracy: 0.9996\n",
      "Epoch 52/100\n",
      "1875/1875 [==============================] - 2s 1ms/step - loss: 0.0031 - accuracy: 0.9989\n",
      "Epoch 53/100\n",
      "1875/1875 [==============================] - 2s 1ms/step - loss: 0.0026 - accuracy: 0.9992\n",
      "Epoch 54/100\n",
      "1875/1875 [==============================] - 3s 2ms/step - loss: 0.0028 - accuracy: 0.9991\n",
      "Epoch 55/100\n",
      "1875/1875 [==============================] - 3s 2ms/step - loss: 0.0024 - accuracy: 0.9993\n",
      "Epoch 56/100\n",
      "1875/1875 [==============================] - 3s 2ms/step - loss: 0.0027 - accuracy: 0.9991\n",
      "Epoch 57/100\n",
      "1875/1875 [==============================] - 3s 2ms/step - loss: 0.0022 - accuracy: 0.9993\n",
      "Epoch 58/100\n",
      "1875/1875 [==============================] - 3s 2ms/step - loss: 0.0031 - accuracy: 0.9990\n",
      "Epoch 59/100\n",
      "1875/1875 [==============================] - 2s 1ms/step - loss: 0.0015 - accuracy: 0.9995\n",
      "Epoch 60/100\n",
      "1875/1875 [==============================] - 2s 1ms/step - loss: 0.0030 - accuracy: 0.9989\n",
      "Epoch 61/100\n",
      "1875/1875 [==============================] - 2s 1ms/step - loss: 0.0022 - accuracy: 0.9993\n",
      "Epoch 62/100\n",
      "1875/1875 [==============================] - 2s 1ms/step - loss: 0.0034 - accuracy: 0.9989\n",
      "Epoch 63/100\n",
      "1875/1875 [==============================] - 2s 1ms/step - loss: 0.0016 - accuracy: 0.9995\n",
      "Epoch 64/100\n",
      "1875/1875 [==============================] - 2s 1ms/step - loss: 0.0031 - accuracy: 0.9990\n",
      "Epoch 65/100\n",
      "1875/1875 [==============================] - 2s 1ms/step - loss: 0.0012 - accuracy: 0.9997\n",
      "Epoch 66/100\n",
      "1875/1875 [==============================] - 3s 1ms/step - loss: 0.0032 - accuracy: 0.9990\n",
      "Epoch 67/100\n",
      "1875/1875 [==============================] - 3s 2ms/step - loss: 0.0022 - accuracy: 0.9993\n",
      "Epoch 68/100\n",
      "1875/1875 [==============================] - 3s 2ms/step - loss: 0.0020 - accuracy: 0.9994\n",
      "Epoch 69/100\n",
      "1875/1875 [==============================] - 3s 2ms/step - loss: 0.0030 - accuracy: 0.9991\n",
      "Epoch 70/100\n",
      "1875/1875 [==============================] - 3s 2ms/step - loss: 0.0021 - accuracy: 0.9994\n",
      "Epoch 71/100\n",
      "1875/1875 [==============================] - 3s 2ms/step - loss: 0.0010 - accuracy: 0.9997\n",
      "Epoch 72/100\n",
      "1875/1875 [==============================] - 3s 1ms/step - loss: 4.0847e-04 - accuracy: 0.9999\n",
      "Epoch 73/100\n",
      "1875/1875 [==============================] - 2s 1ms/step - loss: 0.0047 - accuracy: 0.9986\n",
      "Epoch 74/100\n",
      "1875/1875 [==============================] - 2s 1ms/step - loss: 0.0017 - accuracy: 0.9995\n",
      "Epoch 75/100\n",
      "1875/1875 [==============================] - 2s 1ms/step - loss: 0.0020 - accuracy: 0.9993\n",
      "Epoch 76/100\n",
      "1875/1875 [==============================] - 2s 1ms/step - loss: 0.0023 - accuracy: 0.9992\n",
      "Epoch 77/100\n",
      "1875/1875 [==============================] - 2s 1ms/step - loss: 0.0021 - accuracy: 0.9993\n",
      "Epoch 78/100\n",
      "1875/1875 [==============================] - 2s 1ms/step - loss: 0.0026 - accuracy: 0.9992\n",
      "Epoch 79/100\n",
      "1875/1875 [==============================] - 3s 1ms/step - loss: 0.0016 - accuracy: 0.9994\n",
      "Epoch 80/100\n",
      "1875/1875 [==============================] - 3s 2ms/step - loss: 0.0023 - accuracy: 0.9993\n",
      "Epoch 81/100\n",
      "1875/1875 [==============================] - 3s 2ms/step - loss: 0.0014 - accuracy: 0.9996\n",
      "Epoch 82/100\n",
      "1875/1875 [==============================] - 3s 2ms/step - loss: 0.0028 - accuracy: 0.9993\n",
      "Epoch 83/100\n",
      "1875/1875 [==============================] - 3s 2ms/step - loss: 0.0015 - accuracy: 0.9995\n",
      "Epoch 84/100\n",
      "1875/1875 [==============================] - 3s 2ms/step - loss: 0.0016 - accuracy: 0.9994\n",
      "Epoch 85/100\n",
      "1875/1875 [==============================] - 2s 1ms/step - loss: 0.0015 - accuracy: 0.9995\n",
      "Epoch 86/100\n",
      "1875/1875 [==============================] - 2s 1ms/step - loss: 0.0032 - accuracy: 0.9991\n",
      "Epoch 87/100\n",
      "1875/1875 [==============================] - 2s 1ms/step - loss: 0.0016 - accuracy: 0.9994\n",
      "Epoch 88/100\n",
      "1875/1875 [==============================] - 2s 1ms/step - loss: 0.0015 - accuracy: 0.9996\n",
      "Epoch 89/100\n",
      "1875/1875 [==============================] - 2s 1ms/step - loss: 0.0020 - accuracy: 0.9994\n",
      "Epoch 90/100\n",
      "1875/1875 [==============================] - 2s 1ms/step - loss: 0.0024 - accuracy: 0.9993\n",
      "Epoch 91/100\n",
      "1875/1875 [==============================] - 3s 2ms/step - loss: 0.0010 - accuracy: 0.9997\n",
      "Epoch 92/100\n",
      "1875/1875 [==============================] - 3s 2ms/step - loss: 0.0028 - accuracy: 0.9991\n",
      "Epoch 93/100\n",
      "1875/1875 [==============================] - 3s 2ms/step - loss: 7.4310e-04 - accuracy: 0.9997\n",
      "Epoch 94/100\n",
      "1875/1875 [==============================] - 3s 2ms/step - loss: 0.0033 - accuracy: 0.9989\n",
      "Epoch 95/100\n",
      "1875/1875 [==============================] - 3s 2ms/step - loss: 0.0014 - accuracy: 0.9995\n",
      "Epoch 96/100\n",
      "1875/1875 [==============================] - 3s 2ms/step - loss: 0.0022 - accuracy: 0.9994\n",
      "Epoch 97/100\n",
      "1875/1875 [==============================] - 2s 1ms/step - loss: 0.0016 - accuracy: 0.9995\n",
      "Epoch 98/100\n",
      "1875/1875 [==============================] - 2s 1ms/step - loss: 0.0030 - accuracy: 0.9991\n",
      "Epoch 99/100\n",
      "1875/1875 [==============================] - 2s 1ms/step - loss: 0.0016 - accuracy: 0.9994\n",
      "Epoch 100/100\n",
      "1875/1875 [==============================] - 2s 1ms/step - loss: 9.5444e-04 - accuracy: 0.9998\n"
     ]
    },
    {
     "data": {
      "text/plain": [
       "<keras.callbacks.History at 0x18fc500b5b0>"
      ]
     },
     "execution_count": 51,
     "metadata": {},
     "output_type": "execute_result"
    }
   ],
   "source": [
    "model = keras.Sequential([\n",
    "    keras.layers.Flatten(input_shape=(28, 28)),\n",
    "    keras.layers.Dense(100, activation='relu'),\n",
    "    keras.layers.Dense(10, activation='softmax')\n",
    "])\n",
    "\n",
    "model.compile(optimizer='adam',\n",
    "              loss='sparse_categorical_crossentropy',\n",
    "              metrics=['accuracy'])\n",
    "\n",
    "model.fit(X_train, y_train, epochs=100)"
   ]
  },
  {
   "cell_type": "code",
   "execution_count": 52,
   "id": "f9333833",
   "metadata": {},
   "outputs": [
    {
     "name": "stdout",
     "output_type": "stream",
     "text": [
      "313/313 [==============================] - 0s 1ms/step - loss: 0.2071 - accuracy: 0.9797\n"
     ]
    },
    {
     "data": {
      "text/plain": [
       "[0.20714396238327026, 0.9797000288963318]"
      ]
     },
     "execution_count": 52,
     "metadata": {},
     "output_type": "execute_result"
    }
   ],
   "source": [
    "model.evaluate(X_test,y_test)"
   ]
  }
 ],
 "metadata": {
  "kernelspec": {
   "display_name": "Python 3 (ipykernel)",
   "language": "python",
   "name": "python3"
  },
  "language_info": {
   "codemirror_mode": {
    "name": "ipython",
    "version": 3
   },
   "file_extension": ".py",
   "mimetype": "text/x-python",
   "name": "python",
   "nbconvert_exporter": "python",
   "pygments_lexer": "ipython3",
   "version": "3.9.12"
  }
 },
 "nbformat": 4,
 "nbformat_minor": 5
}
